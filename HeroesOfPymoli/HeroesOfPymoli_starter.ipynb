{
 "cells": [
  {
   "cell_type": "markdown",
   "metadata": {},
   "source": [
    "### Note\n",
    "* Instructions have been included for each segment. You do not have to follow them exactly, but they are included to help you think through the steps."
   ]
  },
  {
   "cell_type": "code",
   "execution_count": 1,
   "metadata": {},
   "outputs": [],
   "source": [
    "# Dependencies and Setup\n",
    "import pandas as pd\n",
    "\n",
    "# File to Load (Remember to Change These)\n",
    "file_to_load = \"Resources/purchase_data.csv\"\n",
    "\n",
    "# Read Purchasing File and store into Pandas data frame\n",
    "purchase_data = pd.read_csv(file_to_load)"
   ]
  },
  {
   "cell_type": "markdown",
   "metadata": {},
   "source": [
    "## Player Count"
   ]
  },
  {
   "cell_type": "markdown",
   "metadata": {},
   "source": [
    "* Display the total number of players\n"
   ]
  },
  {
   "cell_type": "code",
   "execution_count": 2,
   "metadata": {},
   "outputs": [
    {
     "data": {
      "text/html": [
       "<div>\n",
       "<style scoped>\n",
       "    .dataframe tbody tr th:only-of-type {\n",
       "        vertical-align: middle;\n",
       "    }\n",
       "\n",
       "    .dataframe tbody tr th {\n",
       "        vertical-align: top;\n",
       "    }\n",
       "\n",
       "    .dataframe thead th {\n",
       "        text-align: right;\n",
       "    }\n",
       "</style>\n",
       "<table border=\"1\" class=\"dataframe\">\n",
       "  <thead>\n",
       "    <tr style=\"text-align: right;\">\n",
       "      <th></th>\n",
       "      <th>Total Players</th>\n",
       "    </tr>\n",
       "  </thead>\n",
       "  <tbody>\n",
       "    <tr>\n",
       "      <th>0</th>\n",
       "      <td>576</td>\n",
       "    </tr>\n",
       "  </tbody>\n",
       "</table>\n",
       "</div>"
      ],
      "text/plain": [
       "   Total Players\n",
       "0            576"
      ]
     },
     "execution_count": 2,
     "metadata": {},
     "output_type": "execute_result"
    }
   ],
   "source": [
    "# Filter individual playeres using the \"SN\" column (user names?)\n",
    "usernames = purchase_data[\"SN\"].value_counts()\n",
    "# Count number of individual players\n",
    "player_count = usernames.count()\n",
    "\n",
    "# Create a database to display results\n",
    "player_count_df = pd.DataFrame ({\"Total Players\": [player_count]})\n",
    "player_count_df"
   ]
  },
  {
   "cell_type": "markdown",
   "metadata": {},
   "source": [
    "## Purchasing Analysis (Total)"
   ]
  },
  {
   "cell_type": "markdown",
   "metadata": {},
   "source": [
    "* Run basic calculations to obtain number of unique items, average price, etc.\n",
    "\n",
    "\n",
    "* Create a summary data frame to hold the results\n",
    "\n",
    "\n",
    "* Optional: give the displayed data cleaner formatting\n",
    "\n",
    "\n",
    "* Display the summary data frame\n"
   ]
  },
  {
   "cell_type": "code",
   "execution_count": 3,
   "metadata": {
    "scrolled": true
   },
   "outputs": [
    {
     "data": {
      "text/html": [
       "<div>\n",
       "<style scoped>\n",
       "    .dataframe tbody tr th:only-of-type {\n",
       "        vertical-align: middle;\n",
       "    }\n",
       "\n",
       "    .dataframe tbody tr th {\n",
       "        vertical-align: top;\n",
       "    }\n",
       "\n",
       "    .dataframe thead th {\n",
       "        text-align: right;\n",
       "    }\n",
       "</style>\n",
       "<table border=\"1\" class=\"dataframe\">\n",
       "  <thead>\n",
       "    <tr style=\"text-align: right;\">\n",
       "      <th></th>\n",
       "      <th>Number of Unique Items</th>\n",
       "      <th>Average Price</th>\n",
       "      <th>Number of Purchases</th>\n",
       "      <th>Total Revenue</th>\n",
       "    </tr>\n",
       "  </thead>\n",
       "  <tbody>\n",
       "    <tr>\n",
       "      <th>0</th>\n",
       "      <td>179</td>\n",
       "      <td>$3.05</td>\n",
       "      <td>780</td>\n",
       "      <td>$2379.77</td>\n",
       "    </tr>\n",
       "  </tbody>\n",
       "</table>\n",
       "</div>"
      ],
      "text/plain": [
       "   Number of Unique Items Average Price  Number of Purchases Total Revenue\n",
       "0                     179         $3.05                  780      $2379.77"
      ]
     },
     "execution_count": 3,
     "metadata": {},
     "output_type": "execute_result"
    }
   ],
   "source": [
    "# Calculate number of unique items\n",
    "items = purchase_data[\"Item Name\"].value_counts().count()\n",
    "# Calculate average price\n",
    "average_price = round(purchase_data[\"Price\"].mean(), 2)\n",
    "# Calculate number of purchases\n",
    "purchase_number = purchase_data[\"Purchase ID\"].count()\n",
    "# Calculate total revenue\n",
    "total_revenue = purchase_data[\"Price\"].sum()\n",
    "\n",
    "# Create data frame and .map function to display currency\n",
    "purchase_analysis = pd.DataFrame({\"Number of Unique Items\": [items], \"Average Price\": [average_price], \n",
    "                                  \"Number of Purchases\": [purchase_number], \"Total Revenue\": [total_revenue]})\n",
    "purchase_analysis[\"Average Price\"] = purchase_analysis[\"Average Price\"].map(\"${:.2f}\".format)\n",
    "purchase_analysis[\"Total Revenue\"] = purchase_analysis[\"Total Revenue\"].map(\"${:.2f}\".format)\n",
    "purchase_analysis"
   ]
  },
  {
   "cell_type": "markdown",
   "metadata": {},
   "source": [
    "## Gender Demographics"
   ]
  },
  {
   "cell_type": "markdown",
   "metadata": {},
   "source": [
    "* Percentage and Count of Male Players\n",
    "\n",
    "\n",
    "* Percentage and Count of Female Players\n",
    "\n",
    "\n",
    "* Percentage and Count of Other / Non-Disclosed\n",
    "\n",
    "\n"
   ]
  },
  {
   "cell_type": "code",
   "execution_count": 4,
   "metadata": {},
   "outputs": [
    {
     "data": {
      "text/html": [
       "<div>\n",
       "<style scoped>\n",
       "    .dataframe tbody tr th:only-of-type {\n",
       "        vertical-align: middle;\n",
       "    }\n",
       "\n",
       "    .dataframe tbody tr th {\n",
       "        vertical-align: top;\n",
       "    }\n",
       "\n",
       "    .dataframe thead th {\n",
       "        text-align: right;\n",
       "    }\n",
       "</style>\n",
       "<table border=\"1\" class=\"dataframe\">\n",
       "  <thead>\n",
       "    <tr style=\"text-align: right;\">\n",
       "      <th></th>\n",
       "      <th>Total Count</th>\n",
       "      <th>Percentage of Players</th>\n",
       "    </tr>\n",
       "    <tr>\n",
       "      <th>Gender</th>\n",
       "      <th></th>\n",
       "      <th></th>\n",
       "    </tr>\n",
       "  </thead>\n",
       "  <tbody>\n",
       "    <tr>\n",
       "      <th>Female</th>\n",
       "      <td>81</td>\n",
       "      <td>14.06%</td>\n",
       "    </tr>\n",
       "    <tr>\n",
       "      <th>Male</th>\n",
       "      <td>484</td>\n",
       "      <td>84.03%</td>\n",
       "    </tr>\n",
       "    <tr>\n",
       "      <th>Other / Non-Disclosed</th>\n",
       "      <td>11</td>\n",
       "      <td>1.91%</td>\n",
       "    </tr>\n",
       "  </tbody>\n",
       "</table>\n",
       "</div>"
      ],
      "text/plain": [
       "                       Total Count Percentage of Players\n",
       "Gender                                                  \n",
       "Female                          81                14.06%\n",
       "Male                           484                84.03%\n",
       "Other / Non-Disclosed           11                 1.91%"
      ]
     },
     "execution_count": 4,
     "metadata": {},
     "output_type": "execute_result"
    }
   ],
   "source": [
    "# Create a group that filters by gender\n",
    "gender = purchase_data.groupby(\"Gender\")\n",
    "# Filter gender group based on individual user names\n",
    "gender_count = gender.nunique()[\"SN\"]\n",
    "# Calculate percentages for each group\n",
    "percentage_player = gender_count / player_count * 100\n",
    "\n",
    "# Create a database and add .map features to display percentages\n",
    "gender_demographics = pd.DataFrame({\"Total Count\": gender_count, \"Percentage of Players\": percentage_player})\n",
    "gender_demographics[\"Percentage of Players\"] = gender_demographics[\"Percentage of Players\"].map(\"{:.2f}%\".format)\n",
    "gender_demographics\n",
    "\n",
    "# Observable Trends: Male purchasers make up a significant percentage of total players"
   ]
  },
  {
   "cell_type": "markdown",
   "metadata": {},
   "source": [
    "\n",
    "## Purchasing Analysis (Gender)"
   ]
  },
  {
   "cell_type": "markdown",
   "metadata": {},
   "source": [
    "* Run basic calculations to obtain purchase count, avg. purchase price, avg. purchase total per person etc. by gender\n",
    "\n",
    "\n",
    "\n",
    "\n",
    "* Create a summary data frame to hold the results\n",
    "\n",
    "\n",
    "* Optional: give the displayed data cleaner formatting\n",
    "\n",
    "\n",
    "* Display the summary data frame"
   ]
  },
  {
   "cell_type": "code",
   "execution_count": 5,
   "metadata": {},
   "outputs": [
    {
     "data": {
      "text/html": [
       "<div>\n",
       "<style scoped>\n",
       "    .dataframe tbody tr th:only-of-type {\n",
       "        vertical-align: middle;\n",
       "    }\n",
       "\n",
       "    .dataframe tbody tr th {\n",
       "        vertical-align: top;\n",
       "    }\n",
       "\n",
       "    .dataframe thead th {\n",
       "        text-align: right;\n",
       "    }\n",
       "</style>\n",
       "<table border=\"1\" class=\"dataframe\">\n",
       "  <thead>\n",
       "    <tr style=\"text-align: right;\">\n",
       "      <th></th>\n",
       "      <th>Purchase Count</th>\n",
       "      <th>Avg. Purchase Price</th>\n",
       "      <th>Total Purchase Value</th>\n",
       "      <th>Avg. Total Per Person</th>\n",
       "    </tr>\n",
       "    <tr>\n",
       "      <th>Gender</th>\n",
       "      <th></th>\n",
       "      <th></th>\n",
       "      <th></th>\n",
       "      <th></th>\n",
       "    </tr>\n",
       "  </thead>\n",
       "  <tbody>\n",
       "    <tr>\n",
       "      <th>Female</th>\n",
       "      <td>113</td>\n",
       "      <td>$3.20</td>\n",
       "      <td>$361.94</td>\n",
       "      <td>$4.47</td>\n",
       "    </tr>\n",
       "    <tr>\n",
       "      <th>Male</th>\n",
       "      <td>652</td>\n",
       "      <td>$3.02</td>\n",
       "      <td>$1967.64</td>\n",
       "      <td>$4.07</td>\n",
       "    </tr>\n",
       "    <tr>\n",
       "      <th>Other / Non-Disclosed</th>\n",
       "      <td>15</td>\n",
       "      <td>$3.35</td>\n",
       "      <td>$50.19</td>\n",
       "      <td>$4.56</td>\n",
       "    </tr>\n",
       "  </tbody>\n",
       "</table>\n",
       "</div>"
      ],
      "text/plain": [
       "                       Purchase Count Avg. Purchase Price  \\\n",
       "Gender                                                      \n",
       "Female                            113               $3.20   \n",
       "Male                              652               $3.02   \n",
       "Other / Non-Disclosed              15               $3.35   \n",
       "\n",
       "                      Total Purchase Value Avg. Total Per Person  \n",
       "Gender                                                            \n",
       "Female                             $361.94                 $4.47  \n",
       "Male                              $1967.64                 $4.07  \n",
       "Other / Non-Disclosed               $50.19                 $4.56  "
      ]
     },
     "execution_count": 5,
     "metadata": {},
     "output_type": "execute_result"
    }
   ],
   "source": [
    "# Calculate purchase count for each gender\n",
    "gender_purchase_count = gender[\"Purchase ID\"].count()\n",
    "# Calculate average purchase price for each gender\n",
    "gender_avg = gender[\"Price\"].mean() \n",
    "# Calculate purchase total for each gender\n",
    "gender_total = gender[\"Price\"].sum()\n",
    "# Calculate average total per person for each gender\n",
    "gender_per_person = gender_total / gender_count\n",
    "\n",
    "gender_analysis = pd.DataFrame({\"Purchase Count\": gender_purchase_count, \"Avg. Purchase Price\": gender_avg, \n",
    "                               \"Total Purchase Value\": gender_total, \"Avg. Total Per Person\": gender_per_person})\n",
    "gender_analysis[\"Avg. Purchase Price\"] = gender_analysis[\"Avg. Purchase Price\"].map(\"${:.2f}\".format)\n",
    "gender_analysis[\"Total Purchase Value\"] = gender_analysis[\"Total Purchase Value\"].map(\"${:.2f}\".format)\n",
    "gender_analysis[\"Avg. Total Per Person\"] = gender_analysis[\"Avg. Total Per Person\"].map(\"${:.2f}\".format)\n",
    "gender_analysis\n",
    "\n",
    "# Observable Trends: Males make up a significant percentage of total purchasers"
   ]
  },
  {
   "cell_type": "markdown",
   "metadata": {},
   "source": [
    "## Age Demographics"
   ]
  },
  {
   "cell_type": "markdown",
   "metadata": {},
   "source": [
    "* Establish bins for ages\n",
    "\n",
    "\n",
    "* Categorize the existing players using the age bins. Hint: use pd.cut()\n",
    "\n",
    "\n",
    "* Calculate the numbers and percentages by age group\n",
    "\n",
    "\n",
    "* Create a summary data frame to hold the results\n",
    "\n",
    "\n",
    "* Optional: round the percentage column to two decimal points\n",
    "\n",
    "\n",
    "* Display Age Demographics Table\n"
   ]
  },
  {
   "cell_type": "code",
   "execution_count": 6,
   "metadata": {},
   "outputs": [
    {
     "data": {
      "text/html": [
       "<div>\n",
       "<style scoped>\n",
       "    .dataframe tbody tr th:only-of-type {\n",
       "        vertical-align: middle;\n",
       "    }\n",
       "\n",
       "    .dataframe tbody tr th {\n",
       "        vertical-align: top;\n",
       "    }\n",
       "\n",
       "    .dataframe thead th {\n",
       "        text-align: right;\n",
       "    }\n",
       "</style>\n",
       "<table border=\"1\" class=\"dataframe\">\n",
       "  <thead>\n",
       "    <tr style=\"text-align: right;\">\n",
       "      <th></th>\n",
       "      <th>Total Count</th>\n",
       "      <th>Percentage of Players</th>\n",
       "    </tr>\n",
       "  </thead>\n",
       "  <tbody>\n",
       "    <tr>\n",
       "      <th>&lt;10</th>\n",
       "      <td>17</td>\n",
       "      <td>2.95%</td>\n",
       "    </tr>\n",
       "    <tr>\n",
       "      <th>10-14</th>\n",
       "      <td>22</td>\n",
       "      <td>3.82%</td>\n",
       "    </tr>\n",
       "    <tr>\n",
       "      <th>15-19</th>\n",
       "      <td>107</td>\n",
       "      <td>18.58%</td>\n",
       "    </tr>\n",
       "    <tr>\n",
       "      <th>20-24</th>\n",
       "      <td>258</td>\n",
       "      <td>44.79%</td>\n",
       "    </tr>\n",
       "    <tr>\n",
       "      <th>25-29</th>\n",
       "      <td>77</td>\n",
       "      <td>13.37%</td>\n",
       "    </tr>\n",
       "    <tr>\n",
       "      <th>30-34</th>\n",
       "      <td>52</td>\n",
       "      <td>9.03%</td>\n",
       "    </tr>\n",
       "    <tr>\n",
       "      <th>35-39</th>\n",
       "      <td>31</td>\n",
       "      <td>5.38%</td>\n",
       "    </tr>\n",
       "    <tr>\n",
       "      <th>40+</th>\n",
       "      <td>12</td>\n",
       "      <td>2.08%</td>\n",
       "    </tr>\n",
       "  </tbody>\n",
       "</table>\n",
       "</div>"
      ],
      "text/plain": [
       "       Total Count Percentage of Players\n",
       "<10             17                 2.95%\n",
       "10-14           22                 3.82%\n",
       "15-19          107                18.58%\n",
       "20-24          258                44.79%\n",
       "25-29           77                13.37%\n",
       "30-34           52                 9.03%\n",
       "35-39           31                 5.38%\n",
       "40+             12                 2.08%"
      ]
     },
     "execution_count": 6,
     "metadata": {},
     "output_type": "execute_result"
    }
   ],
   "source": [
    "# Create bins for data to be held\n",
    "bins = [0, 9.9, 14.9, 19.9, 24.9, 29.9, 34.9, 39.9, 89.9]\n",
    "group_names = [\"<10\", \"10-14\", \"15-19\", \"20-24\", \"25-29\", \"30-34\", \"35-39\", \"40+\"]\n",
    "# Create a new column in purchase_data to hold the binned values\n",
    "purchase_data[\"Age Group\"] = pd.cut(purchase_data[\"Age\"], bins, labels=group_names)\n",
    "# Drop duplicate individual users, to get correct numbers\n",
    "# age_group = purchase_data[\"Age Group\"]\n",
    "age_dem = purchase_data.drop_duplicates(\"SN\")\n",
    "age_dem_count = age_dem[\"Age Group\"].value_counts()\n",
    "age_dem_percent = age_dem_count / player_count * 100\n",
    "\n",
    "# Create a dataframe to display data\n",
    "age_demographics = pd.DataFrame({\"Total Count\": age_dem_count, \"Percentage of Players\": age_dem_percent})\n",
    "age_demographics = age_demographics.sort_index()\n",
    "age_demographics[\"Percentage of Players\"] = age_demographics[\"Percentage of Players\"].map(\"{:.2f}%\".format)\n",
    "age_demographics"
   ]
  },
  {
   "cell_type": "markdown",
   "metadata": {},
   "source": [
    "## Purchasing Analysis (Age)"
   ]
  },
  {
   "cell_type": "markdown",
   "metadata": {},
   "source": [
    "* Bin the purchase_data data frame by age\n",
    "\n",
    "\n",
    "* Run basic calculations to obtain purchase count, avg. purchase price, avg. purchase total per person etc. in the table below\n",
    "\n",
    "\n",
    "* Create a summary data frame to hold the results\n",
    "\n",
    "\n",
    "* Optional: give the displayed data cleaner formatting\n",
    "\n",
    "\n",
    "* Display the summary data frame"
   ]
  },
  {
   "cell_type": "code",
   "execution_count": 8,
   "metadata": {},
   "outputs": [
    {
     "data": {
      "text/html": [
       "<style  type=\"text/css\" >\n",
       "</style><table id=\"T_a133dba8_c525_11ea_b3e8_7066554e2ddc\" ><thead>    <tr>        <th class=\"blank level0\" ></th>        <th class=\"col_heading level0 col0\" >Purchase Count</th>        <th class=\"col_heading level0 col1\" >Average Purchase Price</th>        <th class=\"col_heading level0 col2\" >Total Purchase Value</th>        <th class=\"col_heading level0 col3\" >Average Purchase Total per Person</th>    </tr></thead><tbody>\n",
       "                <tr>\n",
       "                        <th id=\"T_a133dba8_c525_11ea_b3e8_7066554e2ddclevel0_row0\" class=\"row_heading level0 row0\" ><10</th>\n",
       "                        <td id=\"T_a133dba8_c525_11ea_b3e8_7066554e2ddcrow0_col0\" class=\"data row0 col0\" >23</td>\n",
       "                        <td id=\"T_a133dba8_c525_11ea_b3e8_7066554e2ddcrow0_col1\" class=\"data row0 col1\" >$3.35</td>\n",
       "                        <td id=\"T_a133dba8_c525_11ea_b3e8_7066554e2ddcrow0_col2\" class=\"data row0 col2\" >$77.13</td>\n",
       "                        <td id=\"T_a133dba8_c525_11ea_b3e8_7066554e2ddcrow0_col3\" class=\"data row0 col3\" >$4.54</td>\n",
       "            </tr>\n",
       "            <tr>\n",
       "                        <th id=\"T_a133dba8_c525_11ea_b3e8_7066554e2ddclevel0_row1\" class=\"row_heading level0 row1\" >10-14</th>\n",
       "                        <td id=\"T_a133dba8_c525_11ea_b3e8_7066554e2ddcrow1_col0\" class=\"data row1 col0\" >28</td>\n",
       "                        <td id=\"T_a133dba8_c525_11ea_b3e8_7066554e2ddcrow1_col1\" class=\"data row1 col1\" >$2.96</td>\n",
       "                        <td id=\"T_a133dba8_c525_11ea_b3e8_7066554e2ddcrow1_col2\" class=\"data row1 col2\" >$82.78</td>\n",
       "                        <td id=\"T_a133dba8_c525_11ea_b3e8_7066554e2ddcrow1_col3\" class=\"data row1 col3\" >$3.76</td>\n",
       "            </tr>\n",
       "            <tr>\n",
       "                        <th id=\"T_a133dba8_c525_11ea_b3e8_7066554e2ddclevel0_row2\" class=\"row_heading level0 row2\" >15-19</th>\n",
       "                        <td id=\"T_a133dba8_c525_11ea_b3e8_7066554e2ddcrow2_col0\" class=\"data row2 col0\" >136</td>\n",
       "                        <td id=\"T_a133dba8_c525_11ea_b3e8_7066554e2ddcrow2_col1\" class=\"data row2 col1\" >$3.04</td>\n",
       "                        <td id=\"T_a133dba8_c525_11ea_b3e8_7066554e2ddcrow2_col2\" class=\"data row2 col2\" >$412.89</td>\n",
       "                        <td id=\"T_a133dba8_c525_11ea_b3e8_7066554e2ddcrow2_col3\" class=\"data row2 col3\" >$3.86</td>\n",
       "            </tr>\n",
       "            <tr>\n",
       "                        <th id=\"T_a133dba8_c525_11ea_b3e8_7066554e2ddclevel0_row3\" class=\"row_heading level0 row3\" >20-24</th>\n",
       "                        <td id=\"T_a133dba8_c525_11ea_b3e8_7066554e2ddcrow3_col0\" class=\"data row3 col0\" >365</td>\n",
       "                        <td id=\"T_a133dba8_c525_11ea_b3e8_7066554e2ddcrow3_col1\" class=\"data row3 col1\" >$3.05</td>\n",
       "                        <td id=\"T_a133dba8_c525_11ea_b3e8_7066554e2ddcrow3_col2\" class=\"data row3 col2\" >$1,114.06</td>\n",
       "                        <td id=\"T_a133dba8_c525_11ea_b3e8_7066554e2ddcrow3_col3\" class=\"data row3 col3\" >$4.32</td>\n",
       "            </tr>\n",
       "            <tr>\n",
       "                        <th id=\"T_a133dba8_c525_11ea_b3e8_7066554e2ddclevel0_row4\" class=\"row_heading level0 row4\" >25-29</th>\n",
       "                        <td id=\"T_a133dba8_c525_11ea_b3e8_7066554e2ddcrow4_col0\" class=\"data row4 col0\" >101</td>\n",
       "                        <td id=\"T_a133dba8_c525_11ea_b3e8_7066554e2ddcrow4_col1\" class=\"data row4 col1\" >$2.90</td>\n",
       "                        <td id=\"T_a133dba8_c525_11ea_b3e8_7066554e2ddcrow4_col2\" class=\"data row4 col2\" >$293.00</td>\n",
       "                        <td id=\"T_a133dba8_c525_11ea_b3e8_7066554e2ddcrow4_col3\" class=\"data row4 col3\" >$3.81</td>\n",
       "            </tr>\n",
       "            <tr>\n",
       "                        <th id=\"T_a133dba8_c525_11ea_b3e8_7066554e2ddclevel0_row5\" class=\"row_heading level0 row5\" >30-34</th>\n",
       "                        <td id=\"T_a133dba8_c525_11ea_b3e8_7066554e2ddcrow5_col0\" class=\"data row5 col0\" >73</td>\n",
       "                        <td id=\"T_a133dba8_c525_11ea_b3e8_7066554e2ddcrow5_col1\" class=\"data row5 col1\" >$2.93</td>\n",
       "                        <td id=\"T_a133dba8_c525_11ea_b3e8_7066554e2ddcrow5_col2\" class=\"data row5 col2\" >$214.00</td>\n",
       "                        <td id=\"T_a133dba8_c525_11ea_b3e8_7066554e2ddcrow5_col3\" class=\"data row5 col3\" >$4.12</td>\n",
       "            </tr>\n",
       "            <tr>\n",
       "                        <th id=\"T_a133dba8_c525_11ea_b3e8_7066554e2ddclevel0_row6\" class=\"row_heading level0 row6\" >35-39</th>\n",
       "                        <td id=\"T_a133dba8_c525_11ea_b3e8_7066554e2ddcrow6_col0\" class=\"data row6 col0\" >41</td>\n",
       "                        <td id=\"T_a133dba8_c525_11ea_b3e8_7066554e2ddcrow6_col1\" class=\"data row6 col1\" >$3.60</td>\n",
       "                        <td id=\"T_a133dba8_c525_11ea_b3e8_7066554e2ddcrow6_col2\" class=\"data row6 col2\" >$147.67</td>\n",
       "                        <td id=\"T_a133dba8_c525_11ea_b3e8_7066554e2ddcrow6_col3\" class=\"data row6 col3\" >$4.76</td>\n",
       "            </tr>\n",
       "            <tr>\n",
       "                        <th id=\"T_a133dba8_c525_11ea_b3e8_7066554e2ddclevel0_row7\" class=\"row_heading level0 row7\" >40+</th>\n",
       "                        <td id=\"T_a133dba8_c525_11ea_b3e8_7066554e2ddcrow7_col0\" class=\"data row7 col0\" >13</td>\n",
       "                        <td id=\"T_a133dba8_c525_11ea_b3e8_7066554e2ddcrow7_col1\" class=\"data row7 col1\" >$2.94</td>\n",
       "                        <td id=\"T_a133dba8_c525_11ea_b3e8_7066554e2ddcrow7_col2\" class=\"data row7 col2\" >$38.24</td>\n",
       "                        <td id=\"T_a133dba8_c525_11ea_b3e8_7066554e2ddcrow7_col3\" class=\"data row7 col3\" >$3.19</td>\n",
       "            </tr>\n",
       "    </tbody></table>"
      ],
      "text/plain": [
       "<pandas.io.formats.style.Styler at 0x16bed057808>"
      ]
     },
     "execution_count": 8,
     "metadata": {},
     "output_type": "execute_result"
    }
   ],
   "source": [
    "# Create a group to calculate new set of information using purchase data\n",
    "age_group = purchase_data.groupby(\"Age Group\")\n",
    "purchase_group_count = age_group[\"Purchase ID\"].count()\n",
    "# Calculate Average purchase price for each age group\n",
    "avg_price_group = age_group[\"Price\"].mean()\n",
    "# Calculate Total purchase amount for each age group\n",
    "total_purchase_group = age_group[\"Price\"].sum()\n",
    "# Calculate average price per person in the age group\n",
    "avg_price_person = total_purchase_group / age_dem_count\n",
    "\n",
    "# Create a dataframe to display data\n",
    "purchase_analysis = pd.DataFrame({\"Purchase Count\": purchase_group_count,\n",
    "                                 \"Average Purchase Price\": avg_price_group,\n",
    "                                 \"Total Purchase Value\":total_purchase_group,\n",
    "                                 \"Average Purchase Total per Person\": avg_price_person})\n",
    "purchase_analysis\n",
    "# Format data to show currency\n",
    "purchase_analysis.style.format({\"Average Purchase Price\":\"${:,.2f}\",\n",
    "                               \"Total Purchase Value\":\"${:,.2f}\",\n",
    "                               \"Average Purchase Total per Person\":\"${:,.2f}\"})\n",
    "\n",
    "# Observable Trends: The age range of 15-24 makes up the majority of players for this game. A strategy, based on the data,\n",
    "# might be to market this game to males in the age range of 15-24"
   ]
  },
  {
   "cell_type": "markdown",
   "metadata": {},
   "source": [
    "## Top Spenders"
   ]
  },
  {
   "cell_type": "markdown",
   "metadata": {},
   "source": [
    "* Run basic calculations to obtain the results in the table below\n",
    "\n",
    "\n",
    "* Create a summary data frame to hold the results\n",
    "\n",
    "\n",
    "* Sort the total purchase value column in descending order\n",
    "\n",
    "\n",
    "* Optional: give the displayed data cleaner formatting\n",
    "\n",
    "\n",
    "* Display a preview of the summary data frame\n",
    "\n"
   ]
  },
  {
   "cell_type": "code",
   "execution_count": 9,
   "metadata": {},
   "outputs": [
    {
     "data": {
      "text/html": [
       "<style  type=\"text/css\" >\n",
       "</style><table id=\"T_bf93517e_c525_11ea_8ba6_7066554e2ddc\" ><thead>    <tr>        <th class=\"blank level0\" ></th>        <th class=\"col_heading level0 col0\" >Purchase Count</th>        <th class=\"col_heading level0 col1\" >Average Purchase Price</th>        <th class=\"col_heading level0 col2\" >Total Purchase Value</th>    </tr>    <tr>        <th class=\"index_name level0\" >SN</th>        <th class=\"blank\" ></th>        <th class=\"blank\" ></th>        <th class=\"blank\" ></th>    </tr></thead><tbody>\n",
       "                <tr>\n",
       "                        <th id=\"T_bf93517e_c525_11ea_8ba6_7066554e2ddclevel0_row0\" class=\"row_heading level0 row0\" >Lisosia93</th>\n",
       "                        <td id=\"T_bf93517e_c525_11ea_8ba6_7066554e2ddcrow0_col0\" class=\"data row0 col0\" >5</td>\n",
       "                        <td id=\"T_bf93517e_c525_11ea_8ba6_7066554e2ddcrow0_col1\" class=\"data row0 col1\" >$3.79</td>\n",
       "                        <td id=\"T_bf93517e_c525_11ea_8ba6_7066554e2ddcrow0_col2\" class=\"data row0 col2\" >$18.96</td>\n",
       "            </tr>\n",
       "            <tr>\n",
       "                        <th id=\"T_bf93517e_c525_11ea_8ba6_7066554e2ddclevel0_row1\" class=\"row_heading level0 row1\" >Idastidru52</th>\n",
       "                        <td id=\"T_bf93517e_c525_11ea_8ba6_7066554e2ddcrow1_col0\" class=\"data row1 col0\" >4</td>\n",
       "                        <td id=\"T_bf93517e_c525_11ea_8ba6_7066554e2ddcrow1_col1\" class=\"data row1 col1\" >$3.86</td>\n",
       "                        <td id=\"T_bf93517e_c525_11ea_8ba6_7066554e2ddcrow1_col2\" class=\"data row1 col2\" >$15.45</td>\n",
       "            </tr>\n",
       "            <tr>\n",
       "                        <th id=\"T_bf93517e_c525_11ea_8ba6_7066554e2ddclevel0_row2\" class=\"row_heading level0 row2\" >Chamjask73</th>\n",
       "                        <td id=\"T_bf93517e_c525_11ea_8ba6_7066554e2ddcrow2_col0\" class=\"data row2 col0\" >3</td>\n",
       "                        <td id=\"T_bf93517e_c525_11ea_8ba6_7066554e2ddcrow2_col1\" class=\"data row2 col1\" >$4.61</td>\n",
       "                        <td id=\"T_bf93517e_c525_11ea_8ba6_7066554e2ddcrow2_col2\" class=\"data row2 col2\" >$13.83</td>\n",
       "            </tr>\n",
       "            <tr>\n",
       "                        <th id=\"T_bf93517e_c525_11ea_8ba6_7066554e2ddclevel0_row3\" class=\"row_heading level0 row3\" >Iral74</th>\n",
       "                        <td id=\"T_bf93517e_c525_11ea_8ba6_7066554e2ddcrow3_col0\" class=\"data row3 col0\" >4</td>\n",
       "                        <td id=\"T_bf93517e_c525_11ea_8ba6_7066554e2ddcrow3_col1\" class=\"data row3 col1\" >$3.40</td>\n",
       "                        <td id=\"T_bf93517e_c525_11ea_8ba6_7066554e2ddcrow3_col2\" class=\"data row3 col2\" >$13.62</td>\n",
       "            </tr>\n",
       "            <tr>\n",
       "                        <th id=\"T_bf93517e_c525_11ea_8ba6_7066554e2ddclevel0_row4\" class=\"row_heading level0 row4\" >Iskadarya95</th>\n",
       "                        <td id=\"T_bf93517e_c525_11ea_8ba6_7066554e2ddcrow4_col0\" class=\"data row4 col0\" >3</td>\n",
       "                        <td id=\"T_bf93517e_c525_11ea_8ba6_7066554e2ddcrow4_col1\" class=\"data row4 col1\" >$4.37</td>\n",
       "                        <td id=\"T_bf93517e_c525_11ea_8ba6_7066554e2ddcrow4_col2\" class=\"data row4 col2\" >$13.10</td>\n",
       "            </tr>\n",
       "    </tbody></table>"
      ],
      "text/plain": [
       "<pandas.io.formats.style.Styler at 0x16bed330848>"
      ]
     },
     "execution_count": 9,
     "metadata": {},
     "output_type": "execute_result"
    }
   ],
   "source": [
    "# Create a group for individual users\n",
    "top_spenders = purchase_data.groupby(\"SN\")\n",
    "# Calculate how many individudal purchases each user made\n",
    "total_count = top_spenders[\"Purchase ID\"].count()\n",
    "# Calculate the total amount each user spent on purchases\n",
    "total_value = top_spenders[\"Price\"].sum()\n",
    "# Calculate average purchase price for each user\n",
    "average_value = total_value / total_count\n",
    "\n",
    "# Create a dataframe to display data\n",
    "top_spender_analysis = pd.DataFrame({\"Purchase Count\": total_count, \"Average Purchase Price\": average_value,\n",
    "                                    \"Total Purchase Value\": total_value})\n",
    "# Sort in descending order based on total purchase value\n",
    "sorted_analysis = top_spender_analysis.sort_values(\"Total Purchase Value\", ascending=False).head()\n",
    "# Add styling elements, to display currency\n",
    "sorted_analysis.style.format({\"Average Purchase Price\":\"${:,.2f}\",\n",
    "                               \"Total Purchase Value\":\"${:,.2f}\"})\n",
    "\n"
   ]
  },
  {
   "cell_type": "markdown",
   "metadata": {},
   "source": [
    "## Most Popular Items"
   ]
  },
  {
   "cell_type": "markdown",
   "metadata": {},
   "source": [
    "* Retrieve the Item ID, Item Name, and Item Price columns\n",
    "\n",
    "\n",
    "* Group by Item ID and Item Name. Perform calculations to obtain purchase count, item price, and total purchase value\n",
    "\n",
    "\n",
    "* Create a summary data frame to hold the results\n",
    "\n",
    "\n",
    "* Sort the purchase count column in descending order\n",
    "\n",
    "\n",
    "* Optional: give the displayed data cleaner formatting\n",
    "\n",
    "\n",
    "* Display a preview of the summary data frame\n",
    "\n"
   ]
  },
  {
   "cell_type": "code",
   "execution_count": 10,
   "metadata": {},
   "outputs": [
    {
     "data": {
      "text/html": [
       "<style  type=\"text/css\" >\n",
       "</style><table id=\"T_d3706cf6_c525_11ea_bfe9_7066554e2ddc\" ><thead>    <tr>        <th class=\"blank\" ></th>        <th class=\"blank level0\" ></th>        <th class=\"col_heading level0 col0\" >Purchase Count</th>        <th class=\"col_heading level0 col1\" >Item Price</th>        <th class=\"col_heading level0 col2\" >Total Purchase Value</th>    </tr>    <tr>        <th class=\"index_name level0\" >Item ID</th>        <th class=\"index_name level1\" >Item Name</th>        <th class=\"blank\" ></th>        <th class=\"blank\" ></th>        <th class=\"blank\" ></th>    </tr></thead><tbody>\n",
       "                <tr>\n",
       "                        <th id=\"T_d3706cf6_c525_11ea_bfe9_7066554e2ddclevel0_row0\" class=\"row_heading level0 row0\" >92</th>\n",
       "                        <th id=\"T_d3706cf6_c525_11ea_bfe9_7066554e2ddclevel1_row0\" class=\"row_heading level1 row0\" >Final Critic</th>\n",
       "                        <td id=\"T_d3706cf6_c525_11ea_bfe9_7066554e2ddcrow0_col0\" class=\"data row0 col0\" >13</td>\n",
       "                        <td id=\"T_d3706cf6_c525_11ea_bfe9_7066554e2ddcrow0_col1\" class=\"data row0 col1\" >$4.61</td>\n",
       "                        <td id=\"T_d3706cf6_c525_11ea_bfe9_7066554e2ddcrow0_col2\" class=\"data row0 col2\" >$59.99</td>\n",
       "            </tr>\n",
       "            <tr>\n",
       "                        <th id=\"T_d3706cf6_c525_11ea_bfe9_7066554e2ddclevel0_row1\" class=\"row_heading level0 row1\" >178</th>\n",
       "                        <th id=\"T_d3706cf6_c525_11ea_bfe9_7066554e2ddclevel1_row1\" class=\"row_heading level1 row1\" >Oathbreaker, Last Hope of the Breaking Storm</th>\n",
       "                        <td id=\"T_d3706cf6_c525_11ea_bfe9_7066554e2ddcrow1_col0\" class=\"data row1 col0\" >12</td>\n",
       "                        <td id=\"T_d3706cf6_c525_11ea_bfe9_7066554e2ddcrow1_col1\" class=\"data row1 col1\" >$4.23</td>\n",
       "                        <td id=\"T_d3706cf6_c525_11ea_bfe9_7066554e2ddcrow1_col2\" class=\"data row1 col2\" >$50.76</td>\n",
       "            </tr>\n",
       "            <tr>\n",
       "                        <th id=\"T_d3706cf6_c525_11ea_bfe9_7066554e2ddclevel0_row2\" class=\"row_heading level0 row2\" >145</th>\n",
       "                        <th id=\"T_d3706cf6_c525_11ea_bfe9_7066554e2ddclevel1_row2\" class=\"row_heading level1 row2\" >Fiery Glass Crusader</th>\n",
       "                        <td id=\"T_d3706cf6_c525_11ea_bfe9_7066554e2ddcrow2_col0\" class=\"data row2 col0\" >9</td>\n",
       "                        <td id=\"T_d3706cf6_c525_11ea_bfe9_7066554e2ddcrow2_col1\" class=\"data row2 col1\" >$4.58</td>\n",
       "                        <td id=\"T_d3706cf6_c525_11ea_bfe9_7066554e2ddcrow2_col2\" class=\"data row2 col2\" >$41.22</td>\n",
       "            </tr>\n",
       "            <tr>\n",
       "                        <th id=\"T_d3706cf6_c525_11ea_bfe9_7066554e2ddclevel0_row3\" class=\"row_heading level0 row3\" >132</th>\n",
       "                        <th id=\"T_d3706cf6_c525_11ea_bfe9_7066554e2ddclevel1_row3\" class=\"row_heading level1 row3\" >Persuasion</th>\n",
       "                        <td id=\"T_d3706cf6_c525_11ea_bfe9_7066554e2ddcrow3_col0\" class=\"data row3 col0\" >9</td>\n",
       "                        <td id=\"T_d3706cf6_c525_11ea_bfe9_7066554e2ddcrow3_col1\" class=\"data row3 col1\" >$3.22</td>\n",
       "                        <td id=\"T_d3706cf6_c525_11ea_bfe9_7066554e2ddcrow3_col2\" class=\"data row3 col2\" >$28.99</td>\n",
       "            </tr>\n",
       "            <tr>\n",
       "                        <th id=\"T_d3706cf6_c525_11ea_bfe9_7066554e2ddclevel0_row4\" class=\"row_heading level0 row4\" >108</th>\n",
       "                        <th id=\"T_d3706cf6_c525_11ea_bfe9_7066554e2ddclevel1_row4\" class=\"row_heading level1 row4\" >Extraction, Quickblade Of Trembling Hands</th>\n",
       "                        <td id=\"T_d3706cf6_c525_11ea_bfe9_7066554e2ddcrow4_col0\" class=\"data row4 col0\" >9</td>\n",
       "                        <td id=\"T_d3706cf6_c525_11ea_bfe9_7066554e2ddcrow4_col1\" class=\"data row4 col1\" >$3.53</td>\n",
       "                        <td id=\"T_d3706cf6_c525_11ea_bfe9_7066554e2ddcrow4_col2\" class=\"data row4 col2\" >$31.77</td>\n",
       "            </tr>\n",
       "    </tbody></table>"
      ],
      "text/plain": [
       "<pandas.io.formats.style.Styler at 0x16bed3777c8>"
      ]
     },
     "execution_count": 10,
     "metadata": {},
     "output_type": "execute_result"
    }
   ],
   "source": [
    "# Retrieve the Item ID, Item Name, and Item Price columns\n",
    "popular = purchase_data[[\"Item ID\", \"Item Name\", \"Price\"]]\n",
    "popular_items = popular.groupby([\"Item ID\", \"Item Name\"])\n",
    "# Calculate the purchase count\n",
    "popular_count = popular_items[\"Price\"].count()\n",
    "# Calculate the Total Purchase Value\n",
    "popular_total = popular_items[\"Price\"].sum()\n",
    "# Calculate the Purchase Price (I feel like there's an easier way to do this...)\n",
    "popular_price = popular_total/popular_count\n",
    "\n",
    "# Create a dataframe to display data\n",
    "popular_items_analysis = pd.DataFrame({\"Purchase Count\": popular_count, \"Item Price\": popular_price, \n",
    "                                       \"Total Purchase Value\": popular_total})\n",
    "# Sort information by how many items each user purchased\n",
    "sorted_popular = popular_items_analysis.sort_values(\"Purchase Count\", ascending=False).head()\n",
    "# Style for currency\n",
    "sorted_popular.style.format({\"Item Price\":\"${:,.2f}\", \"Total Purchase Value\":\"${:,.2f}\"})"
   ]
  },
  {
   "cell_type": "markdown",
   "metadata": {},
   "source": [
    "## Most Profitable Items"
   ]
  },
  {
   "cell_type": "markdown",
   "metadata": {},
   "source": [
    "* Sort the above table by total purchase value in descending order\n",
    "\n",
    "\n",
    "* Optional: give the displayed data cleaner formatting\n",
    "\n",
    "\n",
    "* Display a preview of the data frame\n",
    "\n"
   ]
  },
  {
   "cell_type": "code",
   "execution_count": 11,
   "metadata": {
    "scrolled": true
   },
   "outputs": [
    {
     "data": {
      "text/html": [
       "<style  type=\"text/css\" >\n",
       "</style><table id=\"T_ded3e45e_c525_11ea_8bb1_7066554e2ddc\" ><thead>    <tr>        <th class=\"blank\" ></th>        <th class=\"blank level0\" ></th>        <th class=\"col_heading level0 col0\" >Purchase Count</th>        <th class=\"col_heading level0 col1\" >Item Price</th>        <th class=\"col_heading level0 col2\" >Total Purchase Value</th>    </tr>    <tr>        <th class=\"index_name level0\" >Item ID</th>        <th class=\"index_name level1\" >Item Name</th>        <th class=\"blank\" ></th>        <th class=\"blank\" ></th>        <th class=\"blank\" ></th>    </tr></thead><tbody>\n",
       "                <tr>\n",
       "                        <th id=\"T_ded3e45e_c525_11ea_8bb1_7066554e2ddclevel0_row0\" class=\"row_heading level0 row0\" >92</th>\n",
       "                        <th id=\"T_ded3e45e_c525_11ea_8bb1_7066554e2ddclevel1_row0\" class=\"row_heading level1 row0\" >Final Critic</th>\n",
       "                        <td id=\"T_ded3e45e_c525_11ea_8bb1_7066554e2ddcrow0_col0\" class=\"data row0 col0\" >13</td>\n",
       "                        <td id=\"T_ded3e45e_c525_11ea_8bb1_7066554e2ddcrow0_col1\" class=\"data row0 col1\" >$4.61</td>\n",
       "                        <td id=\"T_ded3e45e_c525_11ea_8bb1_7066554e2ddcrow0_col2\" class=\"data row0 col2\" >$59.99</td>\n",
       "            </tr>\n",
       "            <tr>\n",
       "                        <th id=\"T_ded3e45e_c525_11ea_8bb1_7066554e2ddclevel0_row1\" class=\"row_heading level0 row1\" >178</th>\n",
       "                        <th id=\"T_ded3e45e_c525_11ea_8bb1_7066554e2ddclevel1_row1\" class=\"row_heading level1 row1\" >Oathbreaker, Last Hope of the Breaking Storm</th>\n",
       "                        <td id=\"T_ded3e45e_c525_11ea_8bb1_7066554e2ddcrow1_col0\" class=\"data row1 col0\" >12</td>\n",
       "                        <td id=\"T_ded3e45e_c525_11ea_8bb1_7066554e2ddcrow1_col1\" class=\"data row1 col1\" >$4.23</td>\n",
       "                        <td id=\"T_ded3e45e_c525_11ea_8bb1_7066554e2ddcrow1_col2\" class=\"data row1 col2\" >$50.76</td>\n",
       "            </tr>\n",
       "            <tr>\n",
       "                        <th id=\"T_ded3e45e_c525_11ea_8bb1_7066554e2ddclevel0_row2\" class=\"row_heading level0 row2\" >82</th>\n",
       "                        <th id=\"T_ded3e45e_c525_11ea_8bb1_7066554e2ddclevel1_row2\" class=\"row_heading level1 row2\" >Nirvana</th>\n",
       "                        <td id=\"T_ded3e45e_c525_11ea_8bb1_7066554e2ddcrow2_col0\" class=\"data row2 col0\" >9</td>\n",
       "                        <td id=\"T_ded3e45e_c525_11ea_8bb1_7066554e2ddcrow2_col1\" class=\"data row2 col1\" >$4.90</td>\n",
       "                        <td id=\"T_ded3e45e_c525_11ea_8bb1_7066554e2ddcrow2_col2\" class=\"data row2 col2\" >$44.10</td>\n",
       "            </tr>\n",
       "            <tr>\n",
       "                        <th id=\"T_ded3e45e_c525_11ea_8bb1_7066554e2ddclevel0_row3\" class=\"row_heading level0 row3\" >145</th>\n",
       "                        <th id=\"T_ded3e45e_c525_11ea_8bb1_7066554e2ddclevel1_row3\" class=\"row_heading level1 row3\" >Fiery Glass Crusader</th>\n",
       "                        <td id=\"T_ded3e45e_c525_11ea_8bb1_7066554e2ddcrow3_col0\" class=\"data row3 col0\" >9</td>\n",
       "                        <td id=\"T_ded3e45e_c525_11ea_8bb1_7066554e2ddcrow3_col1\" class=\"data row3 col1\" >$4.58</td>\n",
       "                        <td id=\"T_ded3e45e_c525_11ea_8bb1_7066554e2ddcrow3_col2\" class=\"data row3 col2\" >$41.22</td>\n",
       "            </tr>\n",
       "            <tr>\n",
       "                        <th id=\"T_ded3e45e_c525_11ea_8bb1_7066554e2ddclevel0_row4\" class=\"row_heading level0 row4\" >103</th>\n",
       "                        <th id=\"T_ded3e45e_c525_11ea_8bb1_7066554e2ddclevel1_row4\" class=\"row_heading level1 row4\" >Singed Scalpel</th>\n",
       "                        <td id=\"T_ded3e45e_c525_11ea_8bb1_7066554e2ddcrow4_col0\" class=\"data row4 col0\" >8</td>\n",
       "                        <td id=\"T_ded3e45e_c525_11ea_8bb1_7066554e2ddcrow4_col1\" class=\"data row4 col1\" >$4.35</td>\n",
       "                        <td id=\"T_ded3e45e_c525_11ea_8bb1_7066554e2ddcrow4_col2\" class=\"data row4 col2\" >$34.80</td>\n",
       "            </tr>\n",
       "    </tbody></table>"
      ],
      "text/plain": [
       "<pandas.io.formats.style.Styler at 0x16bed371e08>"
      ]
     },
     "execution_count": 11,
     "metadata": {},
     "output_type": "execute_result"
    }
   ],
   "source": [
    "# Sort by \"Total Purchase Value\" instead of \"Purchase Count\"\n",
    "sorted_profitable = popular_items_analysis.sort_values(\"Total Purchase Value\", ascending=False).head()\n",
    "\n",
    "sorted_profitable.style.format({\"Item Price\":\"${:,.2f}\", \"Total Purchase Value\":\"${:,.2f}\"})"
   ]
  },
  {
   "cell_type": "code",
   "execution_count": null,
   "metadata": {},
   "outputs": [],
   "source": []
  }
 ],
 "metadata": {
  "anaconda-cloud": {},
  "kernel_info": {
   "name": "python3"
  },
  "kernelspec": {
   "display_name": "Python [conda env:PythonData]",
   "language": "python",
   "name": "conda-env-PythonData-py"
  },
  "language_info": {
   "codemirror_mode": {
    "name": "ipython",
    "version": 3
   },
   "file_extension": ".py",
   "mimetype": "text/x-python",
   "name": "python",
   "nbconvert_exporter": "python",
   "pygments_lexer": "ipython3",
   "version": "3.7.7"
  },
  "latex_envs": {
   "LaTeX_envs_menu_present": true,
   "autoclose": false,
   "autocomplete": true,
   "bibliofile": "biblio.bib",
   "cite_by": "apalike",
   "current_citInitial": 1,
   "eqLabelWithNumbers": true,
   "eqNumInitial": 1,
   "hotkeys": {
    "equation": "Ctrl-E",
    "itemize": "Ctrl-I"
   },
   "labels_anchors": false,
   "latex_user_defs": false,
   "report_style_numbering": false,
   "user_envs_cfg": false
  },
  "nteract": {
   "version": "0.2.0"
  }
 },
 "nbformat": 4,
 "nbformat_minor": 2
}
